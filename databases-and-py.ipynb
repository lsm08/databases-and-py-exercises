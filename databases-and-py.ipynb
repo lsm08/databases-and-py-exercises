{
    "metadata": {
        "kernelspec": {
            "name": "python3",
            "display_name": "Python 3 (ipykernel)",
            "language": "python"
        },
        "language_info": {
            "name": "python",
            "version": "3.9.4",
            "mimetype": "text/x-python",
            "codemirror_mode": {
                "name": "ipython",
                "version": 3
            },
            "pygments_lexer": "ipython3",
            "nbconvert_exporter": "python",
            "file_extension": ".py"
        }
    },
    "nbformat_minor": 2,
    "nbformat": 4,
    "cells": [
        {
            "cell_type": "markdown",
            "source": [
                "# Exercises: Working with Databases in Python\n",
                "\n",
                "For the exercises, we will be practicing the steps outlined in this [article](https://towardsdatascience.com/do-you-know-python-has-a-built-in-database-d553989c87bd). You can skip the portion where the author downloads a separate SQL client to examine the database. "
            ],
            "metadata": {
                "azdata_cell_guid": "d7b89799-a102-479f-87b7-f2759ff1962e"
            }
        },
        {
            "cell_type": "markdown",
            "source": [
                "## Import Libraries\n",
                "\n",
                "We will need `pandas` and `sqlite3`. SQLite is a small, self-contained database engine that comes with Python so you will not have to do any additional installations for this lesson. If you want to connect to a different database engine, such as SQL server, you may need additional libraries such as `sqlalchemy` or `pyodbc` and a tool called a driver which helps to connect a database to an application.\n"
            ],
            "metadata": {
                "azdata_cell_guid": "89a0b6d9-821d-44f5-9795-9519809b9108"
            }
        },
        {
            "cell_type": "code",
            "source": [
                "# Import sqlite3 and pandas.\n",
                "import sqlite3 as sl\n",
                "import pandas as pd"
            ],
            "metadata": {
                "azdata_cell_guid": "865655b0-22e9-47f4-a5df-4bfe97dda4a3",
                "tags": [],
                "language": "python"
            },
            "outputs": [],
            "execution_count": 53
        },
        {
            "cell_type": "markdown",
            "source": [
                "## Create a Database\n",
                "\n",
                "In the article, the author shows how to use `sqlite3` to open a connection to an existing database or create a new one. Use this method to make a new database called `exercises.db`."
            ],
            "metadata": {
                "azdata_cell_guid": "be8436e2-68be-47f8-9fc9-06c235a6a128"
            }
        },
        {
            "cell_type": "code",
            "source": [
                "# Create a new database called exercises.db.\n",
                "con = sl.connect('exercises.db')\n",
                ""
            ],
            "metadata": {
                "azdata_cell_guid": "707abc33-c6ee-416e-9358-c799f1fcbb12",
                "language": "python",
                "tags": []
            },
            "outputs": [],
            "execution_count": 54
        },
        {
            "cell_type": "markdown",
            "source": [
                "## Create a Table\n",
                "\n",
                "Follow the steps in the article to create a table called `favorite_books.db`. This table should include columns for the title, author, and a short description of why it is a favorite."
            ],
            "metadata": {
                "azdata_cell_guid": "dc9df060-ddc9-4573-bd74-3c97323f85a7"
            }
        },
        {
            "cell_type": "code",
            "source": [
                "# Create a new table in your database.\n",
                "con.execute('''drop table favorite_books;''')\n",
                "# con.execute('''select * from favorite_books;''')\n",
                "con.execute('''create table favorite_books (\n",
                "    title, \n",
                "    author, \n",
                "    description);''')\n",
                "\n",
                ""
            ],
            "metadata": {
                "azdata_cell_guid": "3cc6b80e-3fa2-4d2e-b2a9-1ea5d68ba01e",
                "language": "python"
            },
            "outputs": [
                {
                    "data": {
                        "text/plain": "<sqlite3.Cursor at 0x1d3de6b4dc0>"
                    },
                    "metadata": {},
                    "execution_count": 56,
                    "output_type": "execute_result"
                }
            ],
            "execution_count": 56
        },
        {
            "cell_type": "markdown",
            "source": [
                "## Insert Records\n",
                "\n",
                "Add 3 entries to your table for your top 3 favorite books."
            ],
            "metadata": {
                "azdata_cell_guid": "e9acec60-1485-45c8-9f12-997f959d44cc"
            }
        },
        {
            "cell_type": "code",
            "source": [
                "# Add your 3 favorite books to your table.\n",
                "stmt = 'insert into favorite_books(title,author,description) values(?,?,?)'\n",
                "data = [\n",
                "     ('bloodline','sidney shelton','crime'),\n",
                "     ('the girl who drank the moon','kelly barnhill','thriller'),\n",
                "     ('Harry porter','j.k.rowling','fantasy')]\n",
                "\n",
                "con.executemany(stmt,data)"
            ],
            "metadata": {
                "azdata_cell_guid": "c7b8e386-f3f4-42ad-aa91-a2da2e7904a5",
                "language": "python"
            },
            "outputs": [
                {
                    "data": {
                        "text/plain": "<sqlite3.Cursor at 0x1d3dc78d570>"
                    },
                    "metadata": {},
                    "execution_count": 33,
                    "output_type": "execute_result"
                }
            ],
            "execution_count": 33
        },
        {
            "cell_type": "markdown",
            "source": [
                "## Query Your Table\n",
                "\n",
                "Write a `SELECT` query to output the 3 records in your table."
            ],
            "metadata": {
                "azdata_cell_guid": "b2e48ba7-b418-4418-bb16-598fb82b964c"
            }
        },
        {
            "cell_type": "code",
            "source": [
                "# Write your SELECT query here.\n",
                "with con:\n",
                "    data = con.execute(\"select * from favorite_books\")\n",
                "    for row in data:\n",
                "        print(row)"
            ],
            "metadata": {
                "azdata_cell_guid": "c341e7e2-d635-4c26-b744-237c762f7f41",
                "tags": [],
                "language": "python"
            },
            "outputs": [
                {
                    "name": "stdout",
                    "text": "('bloodline', 'sidney shelton', 'crime')\n('the girl who drank the moon', 'kelly barnhill', 'thriller')\n('Harry porter', 'j.k.rowling', 'fantasy')\n('bloodline', 'sidney shelton', 'crime')\n('the girl who drank the moon', 'kelly barnhill', 'thriller')\n('Harry porter', 'j.k.rowling', 'fantasy')\n('bloodline', 'sidney shelton', 'crime')\n('the girl who drank the moon', 'kelly barnhill', 'thriller')\n('Harry porter', 'j.k.rowling', 'fantasy')\n('bloodline', 'sidney shelton', 'crime')\n('the girl who drank the moon', 'kelly barnhill', 'thriller')\n('Harry porter', 'j.k.rowling', 'fantasy')\n",
                    "output_type": "stream"
                }
            ],
            "execution_count": 38
        },
        {
            "cell_type": "markdown",
            "source": [
                "## Create a New Table with Pandas\n",
                "\n",
                "Create a new table called `favorite_movies` with your top 3 favorite movies. Each movie should have an id and a title. This time, use Pandas to first make a dataframe and then write the dataframe to SQL. Write a `SELECT` query to confirm that the new table does have your top 3 favorite movies."
            ],
            "metadata": {
                "azdata_cell_guid": "2127737d-71cd-4f0d-a84e-b1db8ad54af7"
            }
        },
        {
            "cell_type": "code",
            "source": [
                "# Use Pandas to make a new table in your database.\n",
                "data = {'id':[1,2,3],\n",
                "        'title':['frozen1','frozen2','avatar']}\n",
                "df = pd.DataFrame(data) \n",
                "df.to_sql('favorite movies',con,if_exists='replace',index=False)   \n",
                "query = \"create table favorite movies\"\n",
                "result = pd.read_sql(query,con)\n",
                "print(result)    \n",
                "\n",
                ""
            ],
            "metadata": {
                "azdata_cell_guid": "b4b6dd20-ccc0-42e7-b1e7-79d8596b3f9c",
                "language": "python"
            },
            "outputs": [
                {
                    "traceback": [
                        "\u001b[1;31m---------------------------------------------------------------------------\u001b[0m",
                        "\u001b[1;31mOperationalError\u001b[0m                          Traceback (most recent call last)",
                        "File \u001b[1;32mC:\\software\\Python\\Python39\\lib\\site-packages\\pandas\\io\\sql.py:2202\u001b[0m, in \u001b[0;36mSQLiteDatabase.execute\u001b[1;34m(self, sql, params)\u001b[0m\n\u001b[0;32m   2201\u001b[0m \u001b[38;5;28;01mtry\u001b[39;00m:\n\u001b[1;32m-> 2202\u001b[0m     \u001b[43mcur\u001b[49m\u001b[38;5;241;43m.\u001b[39;49m\u001b[43mexecute\u001b[49m\u001b[43m(\u001b[49m\u001b[43msql\u001b[49m\u001b[43m,\u001b[49m\u001b[43m \u001b[49m\u001b[38;5;241;43m*\u001b[39;49m\u001b[43margs\u001b[49m\u001b[43m)\u001b[49m\n\u001b[0;32m   2203\u001b[0m     \u001b[38;5;28;01mreturn\u001b[39;00m cur\n",
                        "\u001b[1;31mOperationalError\u001b[0m: near \"movies\": syntax error",
                        "\nThe above exception was the direct cause of the following exception:\n",
                        "\u001b[1;31mDatabaseError\u001b[0m                             Traceback (most recent call last)",
                        "Cell \u001b[1;32mIn[62], line 7\u001b[0m\n\u001b[0;32m      5\u001b[0m df\u001b[38;5;241m.\u001b[39mto_sql(\u001b[38;5;124m'\u001b[39m\u001b[38;5;124mfavorite movies\u001b[39m\u001b[38;5;124m'\u001b[39m,con,if_exists\u001b[38;5;241m=\u001b[39m\u001b[38;5;124m'\u001b[39m\u001b[38;5;124mreplace\u001b[39m\u001b[38;5;124m'\u001b[39m,index\u001b[38;5;241m=\u001b[39m\u001b[38;5;28;01mFalse\u001b[39;00m)   \n\u001b[0;32m      6\u001b[0m query \u001b[38;5;241m=\u001b[39m \u001b[38;5;124m\"\u001b[39m\u001b[38;5;124mcreate table favorite movies\u001b[39m\u001b[38;5;124m\"\u001b[39m\n\u001b[1;32m----> 7\u001b[0m result \u001b[38;5;241m=\u001b[39m \u001b[43mpd\u001b[49m\u001b[38;5;241;43m.\u001b[39;49m\u001b[43mread_sql\u001b[49m\u001b[43m(\u001b[49m\u001b[43mquery\u001b[49m\u001b[43m,\u001b[49m\u001b[43mcon\u001b[49m\u001b[43m)\u001b[49m\n\u001b[0;32m      8\u001b[0m \u001b[38;5;28mprint\u001b[39m(result)    \n",
                        "File \u001b[1;32mC:\\software\\Python\\Python39\\lib\\site-packages\\pandas\\io\\sql.py:635\u001b[0m, in \u001b[0;36mread_sql\u001b[1;34m(sql, con, index_col, coerce_float, params, parse_dates, columns, chunksize, dtype_backend, dtype)\u001b[0m\n\u001b[0;32m    633\u001b[0m \u001b[38;5;28;01mwith\u001b[39;00m pandasSQL_builder(con) \u001b[38;5;28;01mas\u001b[39;00m pandas_sql:\n\u001b[0;32m    634\u001b[0m     \u001b[38;5;28;01mif\u001b[39;00m \u001b[38;5;28misinstance\u001b[39m(pandas_sql, SQLiteDatabase):\n\u001b[1;32m--> 635\u001b[0m         \u001b[38;5;28;01mreturn\u001b[39;00m \u001b[43mpandas_sql\u001b[49m\u001b[38;5;241;43m.\u001b[39;49m\u001b[43mread_query\u001b[49m\u001b[43m(\u001b[49m\n\u001b[0;32m    636\u001b[0m \u001b[43m            \u001b[49m\u001b[43msql\u001b[49m\u001b[43m,\u001b[49m\n\u001b[0;32m    637\u001b[0m \u001b[43m            \u001b[49m\u001b[43mindex_col\u001b[49m\u001b[38;5;241;43m=\u001b[39;49m\u001b[43mindex_col\u001b[49m\u001b[43m,\u001b[49m\n\u001b[0;32m    638\u001b[0m \u001b[43m            \u001b[49m\u001b[43mparams\u001b[49m\u001b[38;5;241;43m=\u001b[39;49m\u001b[43mparams\u001b[49m\u001b[43m,\u001b[49m\n\u001b[0;32m    639\u001b[0m \u001b[43m            \u001b[49m\u001b[43mcoerce_float\u001b[49m\u001b[38;5;241;43m=\u001b[39;49m\u001b[43mcoerce_float\u001b[49m\u001b[43m,\u001b[49m\n\u001b[0;32m    640\u001b[0m \u001b[43m            \u001b[49m\u001b[43mparse_dates\u001b[49m\u001b[38;5;241;43m=\u001b[39;49m\u001b[43mparse_dates\u001b[49m\u001b[43m,\u001b[49m\n\u001b[0;32m    641\u001b[0m \u001b[43m            \u001b[49m\u001b[43mchunksize\u001b[49m\u001b[38;5;241;43m=\u001b[39;49m\u001b[43mchunksize\u001b[49m\u001b[43m,\u001b[49m\n\u001b[0;32m    642\u001b[0m \u001b[43m            \u001b[49m\u001b[43mdtype_backend\u001b[49m\u001b[38;5;241;43m=\u001b[39;49m\u001b[43mdtype_backend\u001b[49m\u001b[43m,\u001b[49m\u001b[43m  \u001b[49m\u001b[38;5;66;43;03m# type: ignore[arg-type]\u001b[39;49;00m\n\u001b[0;32m    643\u001b[0m \u001b[43m            \u001b[49m\u001b[43mdtype\u001b[49m\u001b[38;5;241;43m=\u001b[39;49m\u001b[43mdtype\u001b[49m\u001b[43m,\u001b[49m\n\u001b[0;32m    644\u001b[0m \u001b[43m        \u001b[49m\u001b[43m)\u001b[49m\n\u001b[0;32m    646\u001b[0m     \u001b[38;5;28;01mtry\u001b[39;00m:\n\u001b[0;32m    647\u001b[0m         _is_table_name \u001b[38;5;241m=\u001b[39m pandas_sql\u001b[38;5;241m.\u001b[39mhas_table(sql)\n",
                        "File \u001b[1;32mC:\\software\\Python\\Python39\\lib\\site-packages\\pandas\\io\\sql.py:2266\u001b[0m, in \u001b[0;36mSQLiteDatabase.read_query\u001b[1;34m(self, sql, index_col, coerce_float, parse_dates, params, chunksize, dtype, dtype_backend)\u001b[0m\n\u001b[0;32m   2255\u001b[0m \u001b[38;5;28;01mdef\u001b[39;00m \u001b[38;5;21mread_query\u001b[39m(\n\u001b[0;32m   2256\u001b[0m     \u001b[38;5;28mself\u001b[39m,\n\u001b[0;32m   2257\u001b[0m     sql,\n\u001b[1;32m   (...)\u001b[0m\n\u001b[0;32m   2264\u001b[0m     dtype_backend: DtypeBackend \u001b[38;5;241m|\u001b[39m Literal[\u001b[38;5;124m\"\u001b[39m\u001b[38;5;124mnumpy\u001b[39m\u001b[38;5;124m\"\u001b[39m] \u001b[38;5;241m=\u001b[39m \u001b[38;5;124m\"\u001b[39m\u001b[38;5;124mnumpy\u001b[39m\u001b[38;5;124m\"\u001b[39m,\n\u001b[0;32m   2265\u001b[0m ) \u001b[38;5;241m-\u001b[39m\u001b[38;5;241m>\u001b[39m DataFrame \u001b[38;5;241m|\u001b[39m Iterator[DataFrame]:\n\u001b[1;32m-> 2266\u001b[0m     cursor \u001b[38;5;241m=\u001b[39m \u001b[38;5;28;43mself\u001b[39;49m\u001b[38;5;241;43m.\u001b[39;49m\u001b[43mexecute\u001b[49m\u001b[43m(\u001b[49m\u001b[43msql\u001b[49m\u001b[43m,\u001b[49m\u001b[43m \u001b[49m\u001b[43mparams\u001b[49m\u001b[43m)\u001b[49m\n\u001b[0;32m   2267\u001b[0m     columns \u001b[38;5;241m=\u001b[39m [col_desc[\u001b[38;5;241m0\u001b[39m] \u001b[38;5;28;01mfor\u001b[39;00m col_desc \u001b[38;5;129;01min\u001b[39;00m cursor\u001b[38;5;241m.\u001b[39mdescription]\n\u001b[0;32m   2269\u001b[0m     \u001b[38;5;28;01mif\u001b[39;00m chunksize \u001b[38;5;129;01mis\u001b[39;00m \u001b[38;5;129;01mnot\u001b[39;00m \u001b[38;5;28;01mNone\u001b[39;00m:\n",
                        "File \u001b[1;32mC:\\software\\Python\\Python39\\lib\\site-packages\\pandas\\io\\sql.py:2214\u001b[0m, in \u001b[0;36mSQLiteDatabase.execute\u001b[1;34m(self, sql, params)\u001b[0m\n\u001b[0;32m   2211\u001b[0m     \u001b[38;5;28;01mraise\u001b[39;00m ex \u001b[38;5;28;01mfrom\u001b[39;00m \u001b[38;5;21;01minner_exc\u001b[39;00m\n\u001b[0;32m   2213\u001b[0m ex \u001b[38;5;241m=\u001b[39m DatabaseError(\u001b[38;5;124mf\u001b[39m\u001b[38;5;124m\"\u001b[39m\u001b[38;5;124mExecution failed on sql \u001b[39m\u001b[38;5;124m'\u001b[39m\u001b[38;5;132;01m{\u001b[39;00msql\u001b[38;5;132;01m}\u001b[39;00m\u001b[38;5;124m'\u001b[39m\u001b[38;5;124m: \u001b[39m\u001b[38;5;132;01m{\u001b[39;00mexc\u001b[38;5;132;01m}\u001b[39;00m\u001b[38;5;124m\"\u001b[39m)\n\u001b[1;32m-> 2214\u001b[0m \u001b[38;5;28;01mraise\u001b[39;00m ex \u001b[38;5;28;01mfrom\u001b[39;00m \u001b[38;5;21;01mexc\u001b[39;00m\n",
                        "\u001b[1;31mDatabaseError\u001b[0m: Execution failed on sql 'create table favorite movies': near \"movies\": syntax error"
                    ],
                    "ename": "DatabaseError",
                    "evalue": "Execution failed on sql 'create table favorite movies': near \"movies\": syntax error",
                    "output_type": "error"
                }
            ],
            "execution_count": 62
        }
    ]
}